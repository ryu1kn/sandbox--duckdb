{
 "cells": [
  {
   "cell_type": "code",
   "execution_count": 1,
   "metadata": {
    "collapsed": true
   },
   "outputs": [],
   "source": [
    "import duckdb"
   ]
  },
  {
   "cell_type": "code",
   "execution_count": 2,
   "outputs": [],
   "source": [
    "cursor = duckdb.connect()"
   ],
   "metadata": {
    "collapsed": false
   }
  },
  {
   "cell_type": "code",
   "execution_count": 3,
   "outputs": [
    {
     "data": {
      "text/plain": "[(42,)]"
     },
     "execution_count": 3,
     "metadata": {},
     "output_type": "execute_result"
    }
   ],
   "source": [
    "cursor.execute('SELECT 42').fetchall()"
   ],
   "metadata": {
    "collapsed": false
   }
  },
  {
   "cell_type": "code",
   "execution_count": 36,
   "outputs": [
    {
     "data": {
      "text/plain": "[(2000000,\n  '\\nLorem ipsum dolor sit amet, consectetur adipiscing elit. Sed sapien tellus,\\naliquet eu semper ut, faucibus in augue. Donec mollis nisi vitae nulla tristique, ut\\niaculis tortor ultricies. Nullam finibus tortor eros, et elementum dolor lacinia et.\\nIn hac habitasse platea dictumst. Ut a tempus tellus. Nam hendrerit luctus nisi, at\\ncondimentum nibh. Morbi sed eleifend dui. Donec pellentesque efficitur nunc ut consequat.\\nIn id varius magna, sed accumsan elit. Maecenas lobortis lectus nec fermentum lacinia.\\nSuspendisse placerat euismod sem eu pretium. Sed efficitur, dolor sed aliquet molestie,\\nmauris enim tristique nulla, in elementum erat velit quis diam. Ut non nisi quis tellus\\niaculis lacinia vel non sapien. Fusce eget dui ullamcorper, semper ipsum non, convallis\\nmauris. Donec rutrum diam nisi, id tempus sapien pharetra eu. Nunc tempus varius erat,\\nultricies congue est aliquam sed.\\nLorem ipsum dolor sit amet, consectetur adipiscing elit. Sed sapien tellus,\\naliquet eu semper ut, faucibus in augue. Donec mollis nisi vitae nulla tristique, ut\\niaculis tortor ultricies. Nullam finibus tortor eros, et elementum dolor lacinia et.\\nIn hac habitasse platea dictumst. Ut a tempus tellus. Nam hendrerit luctus nisi, at\\ncondimentum nibh. Morbi sed eleifend dui. Donec pellentesque efficitur nunc ut consequat.\\nIn id varius magna, sed accumsan elit. Maecenas lobortis lectus nec fermentum lacinia.\\nSuspendisse placerat euismod sem eu pretium. Sed efficitur, dolor sed aliquet molestie,\\nmauris enim tristique nulla, in elementum erat velit quis diam. Ut non nisi quis tellus\\niaculis lacinia vel non sapien. Fusce eget dui ullamcorper, semper ipsum non, convallis\\nmauris. Donec rutrum diam nisi, id tempus sapien pharetra eu. Nunc tempus varius erat,\\nultricies congue est aliquam sed.\\nLorem ipsum dolor sit amet, consectetur adipiscing elit. Sed sapien tellus,\\naliquet eu semper ut, faucibus in augue. Donec mollis nisi vitae nulla tristique, ut\\niaculis tortor ultricies. Nullam finibus tortor eros, et elementum dolor lacinia et.\\nIn hac habitasse platea dictumst. Ut a tempus tellus. Nam hendrerit luctus nisi, at\\ncondimentum nibh. Morbi sed eleifend dui. Donec pellentesque efficitur nunc ut consequat.\\nIn id varius magna, sed accumsan elit. Maecenas lobortis lectus nec fermentum lacinia.\\nSuspendisse placerat euismod sem eu pretium. Sed efficitur, dolor sed aliquet molestie,\\nmauris enim tristique nulla, in elementum erat velit quis diam. Ut non nisi quis tellus\\niaculis lacinia vel non sapien. Fusce eget dui ullamcorper, semper ipsum non, convallis\\nmauris. Donec rutrum diam nisi, id tempus sapien pharetra eu. Nunc tempus varius erat,\\nultricies congue est aliquam sed.',\n  20)]"
     },
     "execution_count": 36,
     "metadata": {},
     "output_type": "execute_result"
    }
   ],
   "source": [
    "cursor.execute(\"\"\"\n",
    "SELECT * FROM read_parquet('../sandbox--pyarrow/tmp/*.parquet') LIMIT 1;\n",
    "\"\"\").fetchall()"
   ],
   "metadata": {
    "collapsed": false
   }
  },
  {
   "cell_type": "markdown",
   "source": [
    "## Prepare data"
   ],
   "metadata": {
    "collapsed": false
   }
  },
  {
   "cell_type": "code",
   "execution_count": 86,
   "outputs": [],
   "source": [
    "duckdb.sql(\"\"\"\n",
    "CREATE OR REPLACE TABLE ids(id INTEGER);\n",
    "INSERT INTO ids VALUES (4000000), (2000000);\n",
    "\"\"\")\n",
    "\n",
    "duckdb.sql(\"\"\"\n",
    "CREATE OR REPLACE TABLE t_original(id INTEGER, some_id INTEGER, text VARCHAR);\n",
    "INSERT INTO t_original\n",
    "VALUES (2000000, 21, 'Lorem ipsum dolor sit amet, consectetur adipiscing elit.'),\n",
    "       (3000000, 22, 'Lorem ipsum dolor sit amet, consectetur adipiscing elit.'),\n",
    "       (4000000, 21, 'Lorem ipsum dolor sit amet, consectetur adipiscing elit.');\n",
    "\"\"\")"
   ],
   "metadata": {
    "collapsed": false
   }
  },
  {
   "cell_type": "code",
   "execution_count": 87,
   "outputs": [],
   "source": [
    "duckdb.sql(\"\"\"\n",
    "SELECT ids.id, some_id, text\n",
    "FROM ids\n",
    "LEFT JOIN t_original\n",
    "ON ids.id == t_original.id\n",
    "\"\"\").write_parquet(\"data/test-joined.parquet\")"
   ],
   "metadata": {
    "collapsed": false
   }
  },
  {
   "cell_type": "code",
   "execution_count": 88,
   "outputs": [
    {
     "data": {
      "text/plain": "┌─────────┬─────────┬──────────────────────────────────────────────────────────┐\n│   id    │ some_id │                           text                           │\n│  int32  │  int32  │                         varchar                          │\n├─────────┼─────────┼──────────────────────────────────────────────────────────┤\n│ 4000000 │      21 │ Lorem ipsum dolor sit amet, consectetur adipiscing elit. │\n│ 2000000 │      21 │ Lorem ipsum dolor sit amet, consectetur adipiscing elit. │\n└─────────┴─────────┴──────────────────────────────────────────────────────────┘"
     },
     "execution_count": 88,
     "metadata": {},
     "output_type": "execute_result"
    }
   ],
   "source": [
    "duckdb.read_parquet(\"data/test-joined.parquet\")"
   ],
   "metadata": {
    "collapsed": false
   }
  },
  {
   "cell_type": "code",
   "execution_count": 102,
   "outputs": [
    {
     "name": "stdout",
     "output_type": "stream",
     "text": [
      "        id  some_id                                               text\n",
      "0  4000000       21  Lorem ipsum dolor sit amet, consectetur adipis...\n"
     ]
    }
   ],
   "source": [
    "# Can join with the record read from a Parquet file\n",
    "cursor.execute(\"\"\"\n",
    "SELECT table_a.id, some_id, text\n",
    "FROM (VALUES (4000000)) table_a(id)\n",
    "LEFT JOIN read_parquet(\"data/test-joined.parquet\") table_b\n",
    "ON table_a.id == table_b.id\n",
    "\"\"\").df().pipe(print)"
   ],
   "metadata": {
    "collapsed": false
   }
  },
  {
   "cell_type": "markdown",
   "source": [
    "## How about large data?"
   ],
   "metadata": {
    "collapsed": false
   }
  },
  {
   "cell_type": "code",
   "execution_count": 90,
   "outputs": [
    {
     "name": "stdout",
     "output_type": "stream",
     "text": [
      "CPU times: user 255 ms, sys: 14.4 ms, total: 269 ms\n",
      "Wall time: 269 ms\n"
     ]
    },
    {
     "data": {
      "text/plain": "[(4000000,\n  6,\n  '\\nLorem ipsum dolor sit amet, consectetur adipiscing elit. Sed sapien tellus,\\naliquet eu semper ut, faucibus in augue. Donec mollis nisi vitae nulla tristique, ut\\niaculis tortor ultricies. Nullam finibus tortor eros, et elementum dolor lacinia et.\\nIn hac habitasse platea dictumst. Ut a tempus tellus. Nam hendrerit luctus nisi, at\\ncondimentum nibh. Morbi sed eleifend dui. Donec pellentesque efficitur nunc ut consequat.\\nIn id varius magna, sed accumsan elit. Maecenas lobortis lectus nec fermentum lacinia.\\nSuspendisse placerat euismod sem eu pretium. Sed efficitur, dolor sed aliquet molestie,\\nmauris enim tristique nulla, in elementum erat velit quis diam. Ut non nisi quis tellus\\niaculis lacinia vel non sapien. Fusce eget dui ullamcorper, semper ipsum non, convallis\\nmauris. Donec rutrum diam nisi, id tempus sapien pharetra eu. Nunc tempus varius erat,\\nultricies congue est aliquam sed.\\nLorem ipsum dolor sit amet, consectetur adipiscing elit. Sed sapien tellus,\\naliquet eu semper ut, faucibus in augue. Donec mollis nisi vitae nulla tristique, ut\\niaculis tortor ultricies. Nullam finibus tortor eros, et elementum dolor lacinia et.\\nIn hac habitasse platea dictumst. Ut a tempus tellus. Nam hendrerit luctus nisi, at\\ncondimentum nibh. Morbi sed eleifend dui. Donec pellentesque efficitur nunc ut consequat.\\nIn id varius magna, sed accumsan elit. Maecenas lobortis lectus nec fermentum lacinia.\\nSuspendisse placerat euismod sem eu pretium. Sed efficitur, dolor sed aliquet molestie,\\nmauris enim tristique nulla, in elementum erat velit quis diam. Ut non nisi quis tellus\\niaculis lacinia vel non sapien. Fusce eget dui ullamcorper, semper ipsum non, convallis\\nmauris. Donec rutrum diam nisi, id tempus sapien pharetra eu. Nunc tempus varius erat,\\nultricies congue est aliquam sed.\\nLorem ipsum dolor sit amet, consectetur adipiscing elit. Sed sapien tellus,\\naliquet eu semper ut, faucibus in augue. Donec mollis nisi vitae nulla tristique, ut\\niaculis tortor ultricies. Nullam finibus tortor eros, et elementum dolor lacinia et.\\nIn hac habitasse platea dictumst. Ut a tempus tellus. Nam hendrerit luctus nisi, at\\ncondimentum nibh. Morbi sed eleifend dui. Donec pellentesque efficitur nunc ut consequat.\\nIn id varius magna, sed accumsan elit. Maecenas lobortis lectus nec fermentum lacinia.\\nSuspendisse placerat euismod sem eu pretium. Sed efficitur, dolor sed aliquet molestie,\\nmauris enim tristique nulla, in elementum erat velit quis diam. Ut non nisi quis tellus\\niaculis lacinia vel non sapien. Fusce eget dui ullamcorper, semper ipsum non, convallis\\nmauris. Donec rutrum diam nisi, id tempus sapien pharetra eu. Nunc tempus varius erat,\\nultricies congue est aliquam sed.'),\n (6000000,\n  29,\n  '\\nLorem ipsum dolor sit amet, consectetur adipiscing elit. Sed sapien tellus,\\naliquet eu semper ut, faucibus in augue. Donec mollis nisi vitae nulla tristique, ut\\niaculis tortor ultricies. Nullam finibus tortor eros, et elementum dolor lacinia et.\\nIn hac habitasse platea dictumst. Ut a tempus tellus. Nam hendrerit luctus nisi, at\\ncondimentum nibh. Morbi sed eleifend dui. Donec pellentesque efficitur nunc ut consequat.\\nIn id varius magna, sed accumsan elit. Maecenas lobortis lectus nec fermentum lacinia.\\nSuspendisse placerat euismod sem eu pretium. Sed efficitur, dolor sed aliquet molestie,\\nmauris enim tristique nulla, in elementum erat velit quis diam. Ut non nisi quis tellus\\niaculis lacinia vel non sapien. Fusce eget dui ullamcorper, semper ipsum non, convallis\\nmauris. Donec rutrum diam nisi, id tempus sapien pharetra eu. Nunc tempus varius erat,\\nultricies congue est aliquam sed.\\nLorem ipsum dolor sit amet, consectetur adipiscing elit. Sed sapien tellus,\\naliquet eu semper ut, faucibus in augue. Donec mollis nisi vitae nulla tristique, ut\\niaculis tortor ultricies. Nullam finibus tortor eros, et elementum dolor lacinia et.\\nIn hac habitasse platea dictumst. Ut a tempus tellus. Nam hendrerit luctus nisi, at\\ncondimentum nibh. Morbi sed eleifend dui. Donec pellentesque efficitur nunc ut consequat.\\nIn id varius magna, sed accumsan elit. Maecenas lobortis lectus nec fermentum lacinia.\\nSuspendisse placerat euismod sem eu pretium. Sed efficitur, dolor sed aliquet molestie,\\nmauris enim tristique nulla, in elementum erat velit quis diam. Ut non nisi quis tellus\\niaculis lacinia vel non sapien. Fusce eget dui ullamcorper, semper ipsum non, convallis\\nmauris. Donec rutrum diam nisi, id tempus sapien pharetra eu. Nunc tempus varius erat,\\nultricies congue est aliquam sed.\\nLorem ipsum dolor sit amet, consectetur adipiscing elit. Sed sapien tellus,\\naliquet eu semper ut, faucibus in augue. Donec mollis nisi vitae nulla tristique, ut\\niaculis tortor ultricies. Nullam finibus tortor eros, et elementum dolor lacinia et.\\nIn hac habitasse platea dictumst. Ut a tempus tellus. Nam hendrerit luctus nisi, at\\ncondimentum nibh. Morbi sed eleifend dui. Donec pellentesque efficitur nunc ut consequat.\\nIn id varius magna, sed accumsan elit. Maecenas lobortis lectus nec fermentum lacinia.\\nSuspendisse placerat euismod sem eu pretium. Sed efficitur, dolor sed aliquet molestie,\\nmauris enim tristique nulla, in elementum erat velit quis diam. Ut non nisi quis tellus\\niaculis lacinia vel non sapien. Fusce eget dui ullamcorper, semper ipsum non, convallis\\nmauris. Donec rutrum diam nisi, id tempus sapien pharetra eu. Nunc tempus varius erat,\\nultricies congue est aliquam sed.')]"
     },
     "execution_count": 90,
     "metadata": {},
     "output_type": "execute_result"
    }
   ],
   "source": [
    "%%time\n",
    "cursor.execute(\"\"\"\n",
    "SELECT table_a.id, to_be_ignored, text\n",
    "FROM (VALUES (4000000), (6000000)) table_a(id)\n",
    "LEFT JOIN read_parquet(\"../sandbox--pyarrow/tmp/*.parquet\") table_b\n",
    "ON table_a.id == table_b.id\n",
    "\"\"\").fetchall()"
   ],
   "metadata": {
    "collapsed": false
   }
  },
  {
   "cell_type": "code",
   "execution_count": null,
   "outputs": [],
   "source": [],
   "metadata": {
    "collapsed": false
   }
  }
 ],
 "metadata": {
  "kernelspec": {
   "display_name": "Python 3",
   "language": "python",
   "name": "python3"
  },
  "language_info": {
   "codemirror_mode": {
    "name": "ipython",
    "version": 2
   },
   "file_extension": ".py",
   "mimetype": "text/x-python",
   "name": "python",
   "nbconvert_exporter": "python",
   "pygments_lexer": "ipython2",
   "version": "2.7.6"
  }
 },
 "nbformat": 4,
 "nbformat_minor": 0
}
